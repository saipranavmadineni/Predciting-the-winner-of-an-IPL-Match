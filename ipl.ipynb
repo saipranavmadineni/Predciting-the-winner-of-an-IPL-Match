{
  "nbformat": 4,
  "nbformat_minor": 0,
  "metadata": {
    "colab": {
      "name": "ipl.ipynb",
      "provenance": [],
      "include_colab_link": true
    },
    "kernelspec": {
      "name": "python3",
      "display_name": "Python 3"
    }
  },
  "cells": [
    {
      "cell_type": "markdown",
      "metadata": {
        "id": "view-in-github",
        "colab_type": "text"
      },
      "source": [
        "<a href=\"https://colab.research.google.com/github/saipranavmadineni/Predciting-the-winner-of-an-IPL-Match/blob/main/ipl.ipynb\" target=\"_parent\"><img src=\"https://colab.research.google.com/assets/colab-badge.svg\" alt=\"Open In Colab\"/></a>"
      ]
    },
    {
      "cell_type": "code",
      "metadata": {
        "id": "JIwyfUQsqzCg"
      },
      "source": [
        "import tensorflow\n",
        "from tensorflow.keras.layers import Dense,Dropout\n",
        "from tensorflow.keras.models import Sequential\n",
        "import numpy as np\n",
        "import pandas as pd\n",
        "from sklearn.model_selection import train_test_split"
      ],
      "execution_count": null,
      "outputs": []
    },
    {
      "cell_type": "code",
      "metadata": {
        "id": "GtReQUJUuuZx"
      },
      "source": [
        "matches=pd.read_csv(\"/content/sample_data/matches.csv\")\n",
        "matches.info()"
      ],
      "execution_count": null,
      "outputs": []
    },
    {
      "cell_type": "code",
      "metadata": {
        "colab": {
          "base_uri": "https://localhost:8080/",
          "height": 759
        },
        "id": "T141k3oD_KEF",
        "outputId": "28fbb7da-6311-4d6d-824c-e62ee27b5866"
      },
      "source": [
        "check=matches\n",
        "check"
      ],
      "execution_count": null,
      "outputs": [
        {
          "output_type": "execute_result",
          "data": {
            "text/html": [
              "<div>\n",
              "<style scoped>\n",
              "    .dataframe tbody tr th:only-of-type {\n",
              "        vertical-align: middle;\n",
              "    }\n",
              "\n",
              "    .dataframe tbody tr th {\n",
              "        vertical-align: top;\n",
              "    }\n",
              "\n",
              "    .dataframe thead th {\n",
              "        text-align: right;\n",
              "    }\n",
              "</style>\n",
              "<table border=\"1\" class=\"dataframe\">\n",
              "  <thead>\n",
              "    <tr style=\"text-align: right;\">\n",
              "      <th></th>\n",
              "      <th>id</th>\n",
              "      <th>season</th>\n",
              "      <th>city</th>\n",
              "      <th>date</th>\n",
              "      <th>team1</th>\n",
              "      <th>team2</th>\n",
              "      <th>toss_winner</th>\n",
              "      <th>toss_decision</th>\n",
              "      <th>result</th>\n",
              "      <th>dl_applied</th>\n",
              "      <th>winner</th>\n",
              "      <th>win_by_runs</th>\n",
              "      <th>win_by_wickets</th>\n",
              "      <th>player_of_match</th>\n",
              "      <th>venue</th>\n",
              "      <th>umpire1</th>\n",
              "      <th>umpire2</th>\n",
              "      <th>umpire3</th>\n",
              "    </tr>\n",
              "  </thead>\n",
              "  <tbody>\n",
              "    <tr>\n",
              "      <th>0</th>\n",
              "      <td>1</td>\n",
              "      <td>2017</td>\n",
              "      <td>4</td>\n",
              "      <td>2017-04-05</td>\n",
              "      <td>10</td>\n",
              "      <td>3</td>\n",
              "      <td>3</td>\n",
              "      <td>2</td>\n",
              "      <td>normal</td>\n",
              "      <td>0</td>\n",
              "      <td>10</td>\n",
              "      <td>35</td>\n",
              "      <td>0</td>\n",
              "      <td>Yuvraj Singh</td>\n",
              "      <td>Rajiv Gandhi International Stadium, Uppal</td>\n",
              "      <td>AY Dandekar</td>\n",
              "      <td>NJ Llong</td>\n",
              "      <td>NaN</td>\n",
              "    </tr>\n",
              "    <tr>\n",
              "      <th>1</th>\n",
              "      <td>2</td>\n",
              "      <td>2017</td>\n",
              "      <td>26</td>\n",
              "      <td>2017-04-06</td>\n",
              "      <td>1</td>\n",
              "      <td>11</td>\n",
              "      <td>11</td>\n",
              "      <td>2</td>\n",
              "      <td>normal</td>\n",
              "      <td>0</td>\n",
              "      <td>11</td>\n",
              "      <td>0</td>\n",
              "      <td>7</td>\n",
              "      <td>SPD Smith</td>\n",
              "      <td>Maharashtra Cricket Association Stadium</td>\n",
              "      <td>A Nand Kishore</td>\n",
              "      <td>S Ravi</td>\n",
              "      <td>NaN</td>\n",
              "    </tr>\n",
              "    <tr>\n",
              "      <th>2</th>\n",
              "      <td>3</td>\n",
              "      <td>2017</td>\n",
              "      <td>19</td>\n",
              "      <td>2017-04-07</td>\n",
              "      <td>8</td>\n",
              "      <td>2</td>\n",
              "      <td>2</td>\n",
              "      <td>2</td>\n",
              "      <td>normal</td>\n",
              "      <td>0</td>\n",
              "      <td>2</td>\n",
              "      <td>0</td>\n",
              "      <td>10</td>\n",
              "      <td>CA Lynn</td>\n",
              "      <td>Saurashtra Cricket Association Stadium</td>\n",
              "      <td>Nitin Menon</td>\n",
              "      <td>CK Nandan</td>\n",
              "      <td>NaN</td>\n",
              "    </tr>\n",
              "    <tr>\n",
              "      <th>3</th>\n",
              "      <td>4</td>\n",
              "      <td>2017</td>\n",
              "      <td>17</td>\n",
              "      <td>2017-04-08</td>\n",
              "      <td>11</td>\n",
              "      <td>9</td>\n",
              "      <td>9</td>\n",
              "      <td>2</td>\n",
              "      <td>normal</td>\n",
              "      <td>0</td>\n",
              "      <td>9</td>\n",
              "      <td>0</td>\n",
              "      <td>6</td>\n",
              "      <td>GJ Maxwell</td>\n",
              "      <td>Holkar Cricket Stadium</td>\n",
              "      <td>AK Chaudhary</td>\n",
              "      <td>C Shamshuddin</td>\n",
              "      <td>NaN</td>\n",
              "    </tr>\n",
              "    <tr>\n",
              "      <th>4</th>\n",
              "      <td>5</td>\n",
              "      <td>2017</td>\n",
              "      <td>5</td>\n",
              "      <td>2017-04-08</td>\n",
              "      <td>3</td>\n",
              "      <td>7</td>\n",
              "      <td>3</td>\n",
              "      <td>1</td>\n",
              "      <td>normal</td>\n",
              "      <td>0</td>\n",
              "      <td>3</td>\n",
              "      <td>15</td>\n",
              "      <td>0</td>\n",
              "      <td>KM Jadhav</td>\n",
              "      <td>M Chinnaswamy Stadium</td>\n",
              "      <td>NaN</td>\n",
              "      <td>NaN</td>\n",
              "      <td>NaN</td>\n",
              "    </tr>\n",
              "    <tr>\n",
              "      <th>...</th>\n",
              "      <td>...</td>\n",
              "      <td>...</td>\n",
              "      <td>...</td>\n",
              "      <td>...</td>\n",
              "      <td>...</td>\n",
              "      <td>...</td>\n",
              "      <td>...</td>\n",
              "      <td>...</td>\n",
              "      <td>...</td>\n",
              "      <td>...</td>\n",
              "      <td>...</td>\n",
              "      <td>...</td>\n",
              "      <td>...</td>\n",
              "      <td>...</td>\n",
              "      <td>...</td>\n",
              "      <td>...</td>\n",
              "      <td>...</td>\n",
              "      <td>...</td>\n",
              "    </tr>\n",
              "    <tr>\n",
              "      <th>631</th>\n",
              "      <td>632</td>\n",
              "      <td>2016</td>\n",
              "      <td>18</td>\n",
              "      <td>2016-05-22</td>\n",
              "      <td>7</td>\n",
              "      <td>3</td>\n",
              "      <td>3</td>\n",
              "      <td>2</td>\n",
              "      <td>normal</td>\n",
              "      <td>0</td>\n",
              "      <td>3</td>\n",
              "      <td>0</td>\n",
              "      <td>6</td>\n",
              "      <td>V Kohli</td>\n",
              "      <td>Shaheed Veer Narayan Singh International Stadium</td>\n",
              "      <td>A Nand Kishore</td>\n",
              "      <td>BNJ Oxenford</td>\n",
              "      <td>NaN</td>\n",
              "    </tr>\n",
              "    <tr>\n",
              "      <th>632</th>\n",
              "      <td>633</td>\n",
              "      <td>2016</td>\n",
              "      <td>5</td>\n",
              "      <td>2016-05-24</td>\n",
              "      <td>8</td>\n",
              "      <td>3</td>\n",
              "      <td>3</td>\n",
              "      <td>2</td>\n",
              "      <td>normal</td>\n",
              "      <td>0</td>\n",
              "      <td>3</td>\n",
              "      <td>0</td>\n",
              "      <td>4</td>\n",
              "      <td>AB de Villiers</td>\n",
              "      <td>M Chinnaswamy Stadium</td>\n",
              "      <td>AK Chaudhary</td>\n",
              "      <td>HDPK Dharmasena</td>\n",
              "      <td>NaN</td>\n",
              "    </tr>\n",
              "    <tr>\n",
              "      <th>633</th>\n",
              "      <td>634</td>\n",
              "      <td>2016</td>\n",
              "      <td>3</td>\n",
              "      <td>2016-05-25</td>\n",
              "      <td>10</td>\n",
              "      <td>2</td>\n",
              "      <td>2</td>\n",
              "      <td>2</td>\n",
              "      <td>normal</td>\n",
              "      <td>0</td>\n",
              "      <td>10</td>\n",
              "      <td>22</td>\n",
              "      <td>0</td>\n",
              "      <td>MC Henriques</td>\n",
              "      <td>Feroz Shah Kotla</td>\n",
              "      <td>M Erasmus</td>\n",
              "      <td>C Shamshuddin</td>\n",
              "      <td>NaN</td>\n",
              "    </tr>\n",
              "    <tr>\n",
              "      <th>634</th>\n",
              "      <td>635</td>\n",
              "      <td>2016</td>\n",
              "      <td>3</td>\n",
              "      <td>2016-05-27</td>\n",
              "      <td>8</td>\n",
              "      <td>10</td>\n",
              "      <td>10</td>\n",
              "      <td>2</td>\n",
              "      <td>normal</td>\n",
              "      <td>0</td>\n",
              "      <td>10</td>\n",
              "      <td>0</td>\n",
              "      <td>4</td>\n",
              "      <td>DA Warner</td>\n",
              "      <td>Feroz Shah Kotla</td>\n",
              "      <td>M Erasmus</td>\n",
              "      <td>CK Nandan</td>\n",
              "      <td>NaN</td>\n",
              "    </tr>\n",
              "    <tr>\n",
              "      <th>635</th>\n",
              "      <td>636</td>\n",
              "      <td>2016</td>\n",
              "      <td>5</td>\n",
              "      <td>2016-05-29</td>\n",
              "      <td>10</td>\n",
              "      <td>3</td>\n",
              "      <td>10</td>\n",
              "      <td>1</td>\n",
              "      <td>normal</td>\n",
              "      <td>0</td>\n",
              "      <td>10</td>\n",
              "      <td>8</td>\n",
              "      <td>0</td>\n",
              "      <td>BCJ Cutting</td>\n",
              "      <td>M Chinnaswamy Stadium</td>\n",
              "      <td>HDPK Dharmasena</td>\n",
              "      <td>BNJ Oxenford</td>\n",
              "      <td>NaN</td>\n",
              "    </tr>\n",
              "  </tbody>\n",
              "</table>\n",
              "<p>636 rows × 18 columns</p>\n",
              "</div>"
            ],
            "text/plain": [
              "      id  season  city  ...          umpire1          umpire2  umpire3\n",
              "0      1    2017     4  ...      AY Dandekar         NJ Llong      NaN\n",
              "1      2    2017    26  ...   A Nand Kishore           S Ravi      NaN\n",
              "2      3    2017    19  ...      Nitin Menon        CK Nandan      NaN\n",
              "3      4    2017    17  ...     AK Chaudhary    C Shamshuddin      NaN\n",
              "4      5    2017     5  ...              NaN              NaN      NaN\n",
              "..   ...     ...   ...  ...              ...              ...      ...\n",
              "631  632    2016    18  ...   A Nand Kishore     BNJ Oxenford      NaN\n",
              "632  633    2016     5  ...     AK Chaudhary  HDPK Dharmasena      NaN\n",
              "633  634    2016     3  ...        M Erasmus    C Shamshuddin      NaN\n",
              "634  635    2016     3  ...        M Erasmus        CK Nandan      NaN\n",
              "635  636    2016     5  ...  HDPK Dharmasena     BNJ Oxenford      NaN\n",
              "\n",
              "[636 rows x 18 columns]"
            ]
          },
          "metadata": {
            "tags": []
          },
          "execution_count": 202
        }
      ]
    },
    {
      "cell_type": "code",
      "metadata": {
        "id": "y6P9ShUbvLNs"
      },
      "source": [
        "matches['winner'].fillna('Draw',inplace=True)"
      ],
      "execution_count": null,
      "outputs": []
    },
    {
      "cell_type": "code",
      "metadata": {
        "id": "kcceFxQ3xFR2"
      },
      "source": [
        "matches.replace(['Mumbai Indians','Kolkata Knight Riders','Royal Challengers Bangalore','Deccan Chargers','Chennai Super Kings',\n",
        "                 'Rajasthan Royals','Delhi Daredevils','Gujarat Lions','Kings XI Punjab',\n",
        "                 'Sunrisers Hyderabad','Rising Pune Supergiants','Rising Pune Supergiant','Kochi Tuskers Kerala','Pune Warriors']\n",
        "                ,['MI','KKR','RCB','DC','CSK','RR','DD','GL','KXIP','SRH','RPS','RPS','KTK','PW'],inplace=True)\n",
        "\n",
        "encode = {'team1': {'MI':1,'KKR':2,'RCB':3,'DC':4,'CSK':5,'RR':6,'DD':7,'GL':8,'KXIP':9,'SRH':10,'RPS':11,'KTK':12,'PW':13},\n",
        "          'team2': {'MI':1,'KKR':2,'RCB':3,'DC':4,'CSK':5,'RR':6,'DD':7,'GL':8,'KXIP':9,'SRH':10,'RPS':11,'KTK':12,'PW':13},\n",
        "          'toss_winner': {'MI':1,'KKR':2,'RCB':3,'DC':4,'CSK':5,'RR':6,'DD':7,'GL':8,'KXIP':9,'SRH':10,'RPS':11,'KTK':12,'PW':13},\n",
        "          'winner': {'MI':1,'KKR':2,'RCB':3,'DC':4,'CSK':5,'RR':6,'DD':7,'GL':8,'KXIP':9,'SRH':10,'RPS':11,'KTK':12,'PW':13,'Draw':14}}\n",
        "matches.replace(encode, inplace=True)\n",
        "matches.head(2)"
      ],
      "execution_count": null,
      "outputs": []
    },
    {
      "cell_type": "code",
      "metadata": {
        "id": "M5CJJGtCxK5T"
      },
      "source": [
        "matches['city'].fillna('Dubai',inplace=True)"
      ],
      "execution_count": null,
      "outputs": []
    },
    {
      "cell_type": "code",
      "metadata": {
        "id": "6QAve6SGvjkm"
      },
      "source": [
        "x=matches['city']\n",
        "a=set(x)"
      ],
      "execution_count": null,
      "outputs": []
    },
    {
      "cell_type": "code",
      "metadata": {
        "id": "94UWZY7mvlaD"
      },
      "source": [
        "cities={}\n",
        "for i,j in enumerate(a):\n",
        "  cities[j]=i"
      ],
      "execution_count": null,
      "outputs": []
    },
    {
      "cell_type": "code",
      "metadata": {
        "id": "JFaqz7tMwOsz"
      },
      "source": [
        "matches=matches.replace(cities)"
      ],
      "execution_count": null,
      "outputs": []
    },
    {
      "cell_type": "code",
      "metadata": {
        "id": "CBgezl3k0BUu"
      },
      "source": [
        "toss={'bat':1,'field':2}\n",
        "matches=matches.replace(toss)"
      ],
      "execution_count": null,
      "outputs": []
    },
    {
      "cell_type": "code",
      "metadata": {
        "colab": {
          "base_uri": "https://localhost:8080/",
          "height": 111
        },
        "id": "3gAUybNowfJR",
        "outputId": "065eaa62-8435-41d5-d95e-e6be93788d91"
      },
      "source": [
        "match_features = matches[['team1','team2','city','toss_decision','toss_winner','winner']]\n",
        "match_features.head(2)"
      ],
      "execution_count": null,
      "outputs": [
        {
          "output_type": "execute_result",
          "data": {
            "text/html": [
              "<div>\n",
              "<style scoped>\n",
              "    .dataframe tbody tr th:only-of-type {\n",
              "        vertical-align: middle;\n",
              "    }\n",
              "\n",
              "    .dataframe tbody tr th {\n",
              "        vertical-align: top;\n",
              "    }\n",
              "\n",
              "    .dataframe thead th {\n",
              "        text-align: right;\n",
              "    }\n",
              "</style>\n",
              "<table border=\"1\" class=\"dataframe\">\n",
              "  <thead>\n",
              "    <tr style=\"text-align: right;\">\n",
              "      <th></th>\n",
              "      <th>team1</th>\n",
              "      <th>team2</th>\n",
              "      <th>city</th>\n",
              "      <th>toss_decision</th>\n",
              "      <th>toss_winner</th>\n",
              "      <th>winner</th>\n",
              "    </tr>\n",
              "  </thead>\n",
              "  <tbody>\n",
              "    <tr>\n",
              "      <th>0</th>\n",
              "      <td>10</td>\n",
              "      <td>3</td>\n",
              "      <td>4</td>\n",
              "      <td>2</td>\n",
              "      <td>3</td>\n",
              "      <td>10</td>\n",
              "    </tr>\n",
              "    <tr>\n",
              "      <th>1</th>\n",
              "      <td>1</td>\n",
              "      <td>11</td>\n",
              "      <td>26</td>\n",
              "      <td>2</td>\n",
              "      <td>11</td>\n",
              "      <td>11</td>\n",
              "    </tr>\n",
              "  </tbody>\n",
              "</table>\n",
              "</div>"
            ],
            "text/plain": [
              "   team1  team2  city  toss_decision  toss_winner  winner\n",
              "0     10      3     4              2            3      10\n",
              "1      1     11    26              2           11      11"
            ]
          },
          "metadata": {
            "tags": []
          },
          "execution_count": 27
        }
      ]
    },
    {
      "cell_type": "code",
      "metadata": {
        "colab": {
          "base_uri": "https://localhost:8080/",
          "height": 419
        },
        "id": "5PJngRrWmVIo",
        "outputId": "f46db1d8-e462-4d31-934e-7e4440f00445"
      },
      "source": [
        "match_features"
      ],
      "execution_count": null,
      "outputs": [
        {
          "output_type": "execute_result",
          "data": {
            "text/html": [
              "<div>\n",
              "<style scoped>\n",
              "    .dataframe tbody tr th:only-of-type {\n",
              "        vertical-align: middle;\n",
              "    }\n",
              "\n",
              "    .dataframe tbody tr th {\n",
              "        vertical-align: top;\n",
              "    }\n",
              "\n",
              "    .dataframe thead th {\n",
              "        text-align: right;\n",
              "    }\n",
              "</style>\n",
              "<table border=\"1\" class=\"dataframe\">\n",
              "  <thead>\n",
              "    <tr style=\"text-align: right;\">\n",
              "      <th></th>\n",
              "      <th>team1</th>\n",
              "      <th>team2</th>\n",
              "      <th>city</th>\n",
              "      <th>toss_decision</th>\n",
              "      <th>toss_winner</th>\n",
              "    </tr>\n",
              "  </thead>\n",
              "  <tbody>\n",
              "    <tr>\n",
              "      <th>0</th>\n",
              "      <td>10</td>\n",
              "      <td>3</td>\n",
              "      <td>4</td>\n",
              "      <td>2</td>\n",
              "      <td>3</td>\n",
              "    </tr>\n",
              "    <tr>\n",
              "      <th>1</th>\n",
              "      <td>1</td>\n",
              "      <td>11</td>\n",
              "      <td>26</td>\n",
              "      <td>2</td>\n",
              "      <td>11</td>\n",
              "    </tr>\n",
              "    <tr>\n",
              "      <th>2</th>\n",
              "      <td>8</td>\n",
              "      <td>2</td>\n",
              "      <td>19</td>\n",
              "      <td>2</td>\n",
              "      <td>2</td>\n",
              "    </tr>\n",
              "    <tr>\n",
              "      <th>3</th>\n",
              "      <td>11</td>\n",
              "      <td>9</td>\n",
              "      <td>17</td>\n",
              "      <td>2</td>\n",
              "      <td>9</td>\n",
              "    </tr>\n",
              "    <tr>\n",
              "      <th>4</th>\n",
              "      <td>3</td>\n",
              "      <td>7</td>\n",
              "      <td>5</td>\n",
              "      <td>1</td>\n",
              "      <td>3</td>\n",
              "    </tr>\n",
              "    <tr>\n",
              "      <th>...</th>\n",
              "      <td>...</td>\n",
              "      <td>...</td>\n",
              "      <td>...</td>\n",
              "      <td>...</td>\n",
              "      <td>...</td>\n",
              "    </tr>\n",
              "    <tr>\n",
              "      <th>631</th>\n",
              "      <td>7</td>\n",
              "      <td>3</td>\n",
              "      <td>18</td>\n",
              "      <td>2</td>\n",
              "      <td>3</td>\n",
              "    </tr>\n",
              "    <tr>\n",
              "      <th>632</th>\n",
              "      <td>8</td>\n",
              "      <td>3</td>\n",
              "      <td>5</td>\n",
              "      <td>2</td>\n",
              "      <td>3</td>\n",
              "    </tr>\n",
              "    <tr>\n",
              "      <th>633</th>\n",
              "      <td>10</td>\n",
              "      <td>2</td>\n",
              "      <td>3</td>\n",
              "      <td>2</td>\n",
              "      <td>2</td>\n",
              "    </tr>\n",
              "    <tr>\n",
              "      <th>634</th>\n",
              "      <td>8</td>\n",
              "      <td>10</td>\n",
              "      <td>3</td>\n",
              "      <td>2</td>\n",
              "      <td>10</td>\n",
              "    </tr>\n",
              "    <tr>\n",
              "      <th>635</th>\n",
              "      <td>10</td>\n",
              "      <td>3</td>\n",
              "      <td>5</td>\n",
              "      <td>1</td>\n",
              "      <td>10</td>\n",
              "    </tr>\n",
              "  </tbody>\n",
              "</table>\n",
              "<p>636 rows × 5 columns</p>\n",
              "</div>"
            ],
            "text/plain": [
              "     team1  team2  city  toss_decision  toss_winner\n",
              "0       10      3     4              2            3\n",
              "1        1     11    26              2           11\n",
              "2        8      2    19              2            2\n",
              "3       11      9    17              2            9\n",
              "4        3      7     5              1            3\n",
              "..     ...    ...   ...            ...          ...\n",
              "631      7      3    18              2            3\n",
              "632      8      3     5              2            3\n",
              "633     10      2     3              2            2\n",
              "634      8     10     3              2           10\n",
              "635     10      3     5              1           10\n",
              "\n",
              "[636 rows x 5 columns]"
            ]
          },
          "metadata": {
            "tags": []
          },
          "execution_count": 26
        }
      ]
    },
    {
      "cell_type": "code",
      "metadata": {
        "id": "dNVV8h5Zz8Jp"
      },
      "source": [
        "train, test = train_test_split(match_features, test_size=0.2, random_state=42, shuffle=True)\n",
        "train_data=train.values\n",
        "test_data=test.values"
      ],
      "execution_count": null,
      "outputs": []
    },
    {
      "cell_type": "code",
      "metadata": {
        "id": "NaLf3Fqb-22t"
      },
      "source": [
        "train_labels=train_data[:,-1]\n",
        "train_data=train_data[:,:-1]\n",
        "test_labels=test_data[:,-1]\n",
        "test_data=test_data[:,:-1]\n"
      ],
      "execution_count": null,
      "outputs": []
    },
    {
      "cell_type": "code",
      "metadata": {
        "colab": {
          "base_uri": "https://localhost:8080/"
        },
        "id": "q-u-RPvS_Nz3",
        "outputId": "022c23e2-ba20-4c6b-9b26-359beaacf680"
      },
      "source": [
        "train_data.shape,train_labels.shape\n"
      ],
      "execution_count": null,
      "outputs": [
        {
          "output_type": "execute_result",
          "data": {
            "text/plain": [
              "((508, 5), (508,))"
            ]
          },
          "metadata": {
            "tags": []
          },
          "execution_count": 30
        }
      ]
    },
    {
      "cell_type": "code",
      "metadata": {
        "id": "CtF_dqmF2Bkq"
      },
      "source": [
        "model=Sequential([Dense(10,activation='relu',),\n",
        "                  \n",
        "                  Dense(128,activation='relu'),\n",
        "                  \n",
        "                  Dense(256,activation='relu'),\n",
        "                  Dropout(0.25),\n",
        "                  Dense(64,activation='relu'),\n",
        "                  Dropout(0.15),\n",
        "                  Dense(15,activation='softmax')])"
      ],
      "execution_count": null,
      "outputs": []
    },
    {
      "cell_type": "code",
      "metadata": {
        "colab": {
          "base_uri": "https://localhost:8080/"
        },
        "id": "mhEc5kod2dNV",
        "outputId": "15dbe127-2e2e-49a0-ce1c-d3c12813908e"
      },
      "source": [
        "model.compile(loss='sparse_categorical_crossentropy',optimizer='adam',metrics=['accuracy'])\n",
        "model.fit(train_data,train_labels,epochs=200,verbose=1,validation_data=(test_data,test_labels))"
      ],
      "execution_count": null,
      "outputs": [
        {
          "output_type": "stream",
          "text": [
            "Epoch 1/200\n",
            "16/16 [==============================] - 0s 13ms/step - loss: 2.6337 - accuracy: 0.1220 - val_loss: 2.4761 - val_accuracy: 0.1641\n",
            "Epoch 2/200\n",
            "16/16 [==============================] - 0s 5ms/step - loss: 2.4521 - accuracy: 0.1752 - val_loss: 2.3794 - val_accuracy: 0.2266\n",
            "Epoch 3/200\n",
            "16/16 [==============================] - 0s 4ms/step - loss: 2.3950 - accuracy: 0.1890 - val_loss: 2.3469 - val_accuracy: 0.2266\n",
            "Epoch 4/200\n",
            "16/16 [==============================] - 0s 4ms/step - loss: 2.3289 - accuracy: 0.2283 - val_loss: 2.3040 - val_accuracy: 0.2344\n",
            "Epoch 5/200\n",
            "16/16 [==============================] - 0s 4ms/step - loss: 2.3296 - accuracy: 0.1870 - val_loss: 2.3083 - val_accuracy: 0.2266\n",
            "Epoch 6/200\n",
            "16/16 [==============================] - 0s 4ms/step - loss: 2.2500 - accuracy: 0.2343 - val_loss: 2.2821 - val_accuracy: 0.2734\n",
            "Epoch 7/200\n",
            "16/16 [==============================] - 0s 4ms/step - loss: 2.2418 - accuracy: 0.2146 - val_loss: 2.2810 - val_accuracy: 0.2266\n",
            "Epoch 8/200\n",
            "16/16 [==============================] - 0s 4ms/step - loss: 2.1808 - accuracy: 0.2657 - val_loss: 2.2485 - val_accuracy: 0.2422\n",
            "Epoch 9/200\n",
            "16/16 [==============================] - 0s 4ms/step - loss: 2.1979 - accuracy: 0.2500 - val_loss: 2.2305 - val_accuracy: 0.2656\n",
            "Epoch 10/200\n",
            "16/16 [==============================] - 0s 4ms/step - loss: 2.1355 - accuracy: 0.2618 - val_loss: 2.2154 - val_accuracy: 0.2891\n",
            "Epoch 11/200\n",
            "16/16 [==============================] - 0s 5ms/step - loss: 2.0840 - accuracy: 0.3248 - val_loss: 2.1986 - val_accuracy: 0.2891\n",
            "Epoch 12/200\n",
            "16/16 [==============================] - 0s 4ms/step - loss: 2.1090 - accuracy: 0.2795 - val_loss: 2.1825 - val_accuracy: 0.3125\n",
            "Epoch 13/200\n",
            "16/16 [==============================] - 0s 4ms/step - loss: 2.0571 - accuracy: 0.2874 - val_loss: 2.1659 - val_accuracy: 0.2969\n",
            "Epoch 14/200\n",
            "16/16 [==============================] - 0s 4ms/step - loss: 2.0269 - accuracy: 0.2992 - val_loss: 2.1313 - val_accuracy: 0.3750\n",
            "Epoch 15/200\n",
            "16/16 [==============================] - 0s 4ms/step - loss: 2.0209 - accuracy: 0.2992 - val_loss: 2.1338 - val_accuracy: 0.3516\n",
            "Epoch 16/200\n",
            "16/16 [==============================] - 0s 4ms/step - loss: 1.9818 - accuracy: 0.3169 - val_loss: 2.1255 - val_accuracy: 0.3359\n",
            "Epoch 17/200\n",
            "16/16 [==============================] - 0s 4ms/step - loss: 1.9363 - accuracy: 0.3406 - val_loss: 2.0867 - val_accuracy: 0.3281\n",
            "Epoch 18/200\n",
            "16/16 [==============================] - 0s 4ms/step - loss: 1.9114 - accuracy: 0.3307 - val_loss: 2.0565 - val_accuracy: 0.3359\n",
            "Epoch 19/200\n",
            "16/16 [==============================] - 0s 4ms/step - loss: 1.9077 - accuracy: 0.3720 - val_loss: 2.0367 - val_accuracy: 0.3828\n",
            "Epoch 20/200\n",
            "16/16 [==============================] - 0s 5ms/step - loss: 1.8870 - accuracy: 0.3484 - val_loss: 2.0553 - val_accuracy: 0.3438\n",
            "Epoch 21/200\n",
            "16/16 [==============================] - 0s 4ms/step - loss: 1.8600 - accuracy: 0.3681 - val_loss: 2.0192 - val_accuracy: 0.3438\n",
            "Epoch 22/200\n",
            "16/16 [==============================] - 0s 4ms/step - loss: 1.8025 - accuracy: 0.3504 - val_loss: 2.0454 - val_accuracy: 0.3125\n",
            "Epoch 23/200\n",
            "16/16 [==============================] - 0s 4ms/step - loss: 1.8017 - accuracy: 0.3583 - val_loss: 2.0188 - val_accuracy: 0.3359\n",
            "Epoch 24/200\n",
            "16/16 [==============================] - 0s 4ms/step - loss: 1.7801 - accuracy: 0.3681 - val_loss: 2.0357 - val_accuracy: 0.3203\n",
            "Epoch 25/200\n",
            "16/16 [==============================] - 0s 5ms/step - loss: 1.8074 - accuracy: 0.3622 - val_loss: 2.0194 - val_accuracy: 0.4062\n",
            "Epoch 26/200\n",
            "16/16 [==============================] - 0s 4ms/step - loss: 1.7473 - accuracy: 0.4114 - val_loss: 2.0260 - val_accuracy: 0.3281\n",
            "Epoch 27/200\n",
            "16/16 [==============================] - 0s 4ms/step - loss: 1.7520 - accuracy: 0.3661 - val_loss: 1.9999 - val_accuracy: 0.3438\n",
            "Epoch 28/200\n",
            "16/16 [==============================] - 0s 4ms/step - loss: 1.7332 - accuracy: 0.3976 - val_loss: 1.9644 - val_accuracy: 0.3438\n",
            "Epoch 29/200\n",
            "16/16 [==============================] - 0s 4ms/step - loss: 1.7227 - accuracy: 0.3622 - val_loss: 1.9463 - val_accuracy: 0.3750\n",
            "Epoch 30/200\n",
            "16/16 [==============================] - 0s 4ms/step - loss: 1.6865 - accuracy: 0.3858 - val_loss: 1.9510 - val_accuracy: 0.3516\n",
            "Epoch 31/200\n",
            "16/16 [==============================] - 0s 4ms/step - loss: 1.7019 - accuracy: 0.4094 - val_loss: 1.9393 - val_accuracy: 0.3828\n",
            "Epoch 32/200\n",
            "16/16 [==============================] - 0s 4ms/step - loss: 1.6928 - accuracy: 0.4055 - val_loss: 1.9472 - val_accuracy: 0.3359\n",
            "Epoch 33/200\n",
            "16/16 [==============================] - 0s 4ms/step - loss: 1.6645 - accuracy: 0.3937 - val_loss: 1.9467 - val_accuracy: 0.3828\n",
            "Epoch 34/200\n",
            "16/16 [==============================] - 0s 4ms/step - loss: 1.6395 - accuracy: 0.4390 - val_loss: 1.9762 - val_accuracy: 0.3359\n",
            "Epoch 35/200\n",
            "16/16 [==============================] - 0s 4ms/step - loss: 1.5858 - accuracy: 0.4350 - val_loss: 1.9145 - val_accuracy: 0.4141\n",
            "Epoch 36/200\n",
            "16/16 [==============================] - 0s 4ms/step - loss: 1.6086 - accuracy: 0.4193 - val_loss: 1.9414 - val_accuracy: 0.3750\n",
            "Epoch 37/200\n",
            "16/16 [==============================] - 0s 4ms/step - loss: 1.6030 - accuracy: 0.4114 - val_loss: 1.9497 - val_accuracy: 0.3516\n",
            "Epoch 38/200\n",
            "16/16 [==============================] - 0s 4ms/step - loss: 1.5596 - accuracy: 0.4449 - val_loss: 1.9240 - val_accuracy: 0.3750\n",
            "Epoch 39/200\n",
            "16/16 [==============================] - 0s 4ms/step - loss: 1.5580 - accuracy: 0.4449 - val_loss: 1.9073 - val_accuracy: 0.3672\n",
            "Epoch 40/200\n",
            "16/16 [==============================] - 0s 4ms/step - loss: 1.5741 - accuracy: 0.4429 - val_loss: 1.9224 - val_accuracy: 0.3828\n",
            "Epoch 41/200\n",
            "16/16 [==============================] - 0s 4ms/step - loss: 1.5329 - accuracy: 0.4094 - val_loss: 1.9142 - val_accuracy: 0.3750\n",
            "Epoch 42/200\n",
            "16/16 [==============================] - 0s 4ms/step - loss: 1.4983 - accuracy: 0.4350 - val_loss: 1.9133 - val_accuracy: 0.3750\n",
            "Epoch 43/200\n",
            "16/16 [==============================] - 0s 5ms/step - loss: 1.4735 - accuracy: 0.4567 - val_loss: 1.8951 - val_accuracy: 0.3984\n",
            "Epoch 44/200\n",
            "16/16 [==============================] - 0s 5ms/step - loss: 1.4761 - accuracy: 0.4744 - val_loss: 1.9389 - val_accuracy: 0.3594\n",
            "Epoch 45/200\n",
            "16/16 [==============================] - 0s 4ms/step - loss: 1.4622 - accuracy: 0.4646 - val_loss: 1.9430 - val_accuracy: 0.3984\n",
            "Epoch 46/200\n",
            "16/16 [==============================] - 0s 4ms/step - loss: 1.4511 - accuracy: 0.4567 - val_loss: 1.9279 - val_accuracy: 0.3438\n",
            "Epoch 47/200\n",
            "16/16 [==============================] - 0s 4ms/step - loss: 1.4516 - accuracy: 0.4409 - val_loss: 1.8949 - val_accuracy: 0.3828\n",
            "Epoch 48/200\n",
            "16/16 [==============================] - 0s 4ms/step - loss: 1.4558 - accuracy: 0.4547 - val_loss: 1.9568 - val_accuracy: 0.3672\n",
            "Epoch 49/200\n",
            "16/16 [==============================] - 0s 4ms/step - loss: 1.4045 - accuracy: 0.4862 - val_loss: 1.8900 - val_accuracy: 0.3828\n",
            "Epoch 50/200\n",
            "16/16 [==============================] - 0s 4ms/step - loss: 1.3823 - accuracy: 0.4823 - val_loss: 1.9269 - val_accuracy: 0.3906\n",
            "Epoch 51/200\n",
            "16/16 [==============================] - 0s 4ms/step - loss: 1.4061 - accuracy: 0.4862 - val_loss: 1.9605 - val_accuracy: 0.4062\n",
            "Epoch 52/200\n",
            "16/16 [==============================] - 0s 4ms/step - loss: 1.4318 - accuracy: 0.4862 - val_loss: 1.9665 - val_accuracy: 0.4062\n",
            "Epoch 53/200\n",
            "16/16 [==============================] - 0s 4ms/step - loss: 1.4066 - accuracy: 0.4606 - val_loss: 1.9682 - val_accuracy: 0.3750\n",
            "Epoch 54/200\n",
            "16/16 [==============================] - 0s 4ms/step - loss: 1.3813 - accuracy: 0.4921 - val_loss: 1.9008 - val_accuracy: 0.3906\n",
            "Epoch 55/200\n",
            "16/16 [==============================] - 0s 4ms/step - loss: 1.3904 - accuracy: 0.4744 - val_loss: 1.9199 - val_accuracy: 0.3906\n",
            "Epoch 56/200\n",
            "16/16 [==============================] - 0s 3ms/step - loss: 1.3719 - accuracy: 0.5020 - val_loss: 1.9423 - val_accuracy: 0.3984\n",
            "Epoch 57/200\n",
            "16/16 [==============================] - 0s 5ms/step - loss: 1.3174 - accuracy: 0.5098 - val_loss: 1.9661 - val_accuracy: 0.3984\n",
            "Epoch 58/200\n",
            "16/16 [==============================] - 0s 4ms/step - loss: 1.3608 - accuracy: 0.4921 - val_loss: 2.0311 - val_accuracy: 0.3984\n",
            "Epoch 59/200\n",
            "16/16 [==============================] - 0s 4ms/step - loss: 1.3045 - accuracy: 0.5354 - val_loss: 1.9185 - val_accuracy: 0.3828\n",
            "Epoch 60/200\n",
            "16/16 [==============================] - 0s 4ms/step - loss: 1.3303 - accuracy: 0.5079 - val_loss: 1.9242 - val_accuracy: 0.4062\n",
            "Epoch 61/200\n",
            "16/16 [==============================] - 0s 6ms/step - loss: 1.3353 - accuracy: 0.5000 - val_loss: 2.0099 - val_accuracy: 0.3750\n",
            "Epoch 62/200\n",
            "16/16 [==============================] - 0s 4ms/step - loss: 1.3009 - accuracy: 0.5217 - val_loss: 1.9445 - val_accuracy: 0.4141\n",
            "Epoch 63/200\n",
            "16/16 [==============================] - 0s 4ms/step - loss: 1.2968 - accuracy: 0.5118 - val_loss: 2.0371 - val_accuracy: 0.4141\n",
            "Epoch 64/200\n",
            "16/16 [==============================] - 0s 4ms/step - loss: 1.2919 - accuracy: 0.5217 - val_loss: 2.0176 - val_accuracy: 0.3750\n",
            "Epoch 65/200\n",
            "16/16 [==============================] - 0s 5ms/step - loss: 1.2742 - accuracy: 0.5039 - val_loss: 1.9178 - val_accuracy: 0.3828\n",
            "Epoch 66/200\n",
            "16/16 [==============================] - 0s 4ms/step - loss: 1.2776 - accuracy: 0.5315 - val_loss: 2.0446 - val_accuracy: 0.3906\n",
            "Epoch 67/200\n",
            "16/16 [==============================] - 0s 4ms/step - loss: 1.2731 - accuracy: 0.5157 - val_loss: 1.8990 - val_accuracy: 0.3828\n",
            "Epoch 68/200\n",
            "16/16 [==============================] - 0s 4ms/step - loss: 1.2322 - accuracy: 0.5335 - val_loss: 2.0009 - val_accuracy: 0.4141\n",
            "Epoch 69/200\n",
            "16/16 [==============================] - 0s 4ms/step - loss: 1.2146 - accuracy: 0.5217 - val_loss: 1.9721 - val_accuracy: 0.3828\n",
            "Epoch 70/200\n",
            "16/16 [==============================] - 0s 5ms/step - loss: 1.2571 - accuracy: 0.5157 - val_loss: 2.0761 - val_accuracy: 0.4062\n",
            "Epoch 71/200\n",
            "16/16 [==============================] - 0s 4ms/step - loss: 1.2500 - accuracy: 0.5374 - val_loss: 1.9342 - val_accuracy: 0.4062\n",
            "Epoch 72/200\n",
            "16/16 [==============================] - 0s 4ms/step - loss: 1.2109 - accuracy: 0.5433 - val_loss: 1.9707 - val_accuracy: 0.3906\n",
            "Epoch 73/200\n",
            "16/16 [==============================] - 0s 4ms/step - loss: 1.1847 - accuracy: 0.5472 - val_loss: 2.0492 - val_accuracy: 0.4062\n",
            "Epoch 74/200\n",
            "16/16 [==============================] - 0s 4ms/step - loss: 1.2015 - accuracy: 0.5433 - val_loss: 1.9746 - val_accuracy: 0.4375\n",
            "Epoch 75/200\n",
            "16/16 [==============================] - 0s 4ms/step - loss: 1.1745 - accuracy: 0.5650 - val_loss: 2.1042 - val_accuracy: 0.3828\n",
            "Epoch 76/200\n",
            "16/16 [==============================] - 0s 4ms/step - loss: 1.1992 - accuracy: 0.5472 - val_loss: 2.0365 - val_accuracy: 0.4141\n",
            "Epoch 77/200\n",
            "16/16 [==============================] - 0s 4ms/step - loss: 1.1623 - accuracy: 0.5650 - val_loss: 2.0775 - val_accuracy: 0.3906\n",
            "Epoch 78/200\n",
            "16/16 [==============================] - 0s 4ms/step - loss: 1.2010 - accuracy: 0.5197 - val_loss: 2.1300 - val_accuracy: 0.4062\n",
            "Epoch 79/200\n",
            "16/16 [==============================] - 0s 4ms/step - loss: 1.1930 - accuracy: 0.5217 - val_loss: 2.0286 - val_accuracy: 0.3672\n",
            "Epoch 80/200\n",
            "16/16 [==============================] - 0s 4ms/step - loss: 1.2033 - accuracy: 0.5630 - val_loss: 1.9911 - val_accuracy: 0.4297\n",
            "Epoch 81/200\n",
            "16/16 [==============================] - 0s 4ms/step - loss: 1.1369 - accuracy: 0.5630 - val_loss: 2.0627 - val_accuracy: 0.3750\n",
            "Epoch 82/200\n",
            "16/16 [==============================] - 0s 4ms/step - loss: 1.1312 - accuracy: 0.5472 - val_loss: 2.0362 - val_accuracy: 0.3984\n",
            "Epoch 83/200\n",
            "16/16 [==============================] - 0s 5ms/step - loss: 1.1978 - accuracy: 0.5551 - val_loss: 2.0963 - val_accuracy: 0.3906\n",
            "Epoch 84/200\n",
            "16/16 [==============================] - 0s 4ms/step - loss: 1.1295 - accuracy: 0.5925 - val_loss: 2.0704 - val_accuracy: 0.3828\n",
            "Epoch 85/200\n",
            "16/16 [==============================] - 0s 4ms/step - loss: 1.0834 - accuracy: 0.5846 - val_loss: 1.9849 - val_accuracy: 0.4219\n",
            "Epoch 86/200\n",
            "16/16 [==============================] - 0s 4ms/step - loss: 1.1470 - accuracy: 0.5591 - val_loss: 2.0137 - val_accuracy: 0.4297\n",
            "Epoch 87/200\n",
            "16/16 [==============================] - 0s 4ms/step - loss: 1.0728 - accuracy: 0.5669 - val_loss: 2.0306 - val_accuracy: 0.3672\n",
            "Epoch 88/200\n",
            "16/16 [==============================] - 0s 4ms/step - loss: 1.1309 - accuracy: 0.5551 - val_loss: 2.0667 - val_accuracy: 0.3984\n",
            "Epoch 89/200\n",
            "16/16 [==============================] - 0s 4ms/step - loss: 1.0650 - accuracy: 0.5886 - val_loss: 2.0261 - val_accuracy: 0.3672\n",
            "Epoch 90/200\n",
            "16/16 [==============================] - 0s 4ms/step - loss: 1.1087 - accuracy: 0.5748 - val_loss: 2.0578 - val_accuracy: 0.4141\n",
            "Epoch 91/200\n",
            "16/16 [==============================] - 0s 4ms/step - loss: 1.1067 - accuracy: 0.5728 - val_loss: 2.0511 - val_accuracy: 0.3984\n",
            "Epoch 92/200\n",
            "16/16 [==============================] - 0s 4ms/step - loss: 1.0557 - accuracy: 0.5886 - val_loss: 2.1115 - val_accuracy: 0.4141\n",
            "Epoch 93/200\n",
            "16/16 [==============================] - 0s 4ms/step - loss: 1.0920 - accuracy: 0.5827 - val_loss: 2.0620 - val_accuracy: 0.4062\n",
            "Epoch 94/200\n",
            "16/16 [==============================] - 0s 4ms/step - loss: 1.0278 - accuracy: 0.6142 - val_loss: 2.1235 - val_accuracy: 0.4219\n",
            "Epoch 95/200\n",
            "16/16 [==============================] - 0s 4ms/step - loss: 1.0561 - accuracy: 0.5689 - val_loss: 2.1258 - val_accuracy: 0.4219\n",
            "Epoch 96/200\n",
            "16/16 [==============================] - 0s 4ms/step - loss: 1.0138 - accuracy: 0.6161 - val_loss: 2.1030 - val_accuracy: 0.3828\n",
            "Epoch 97/200\n",
            "16/16 [==============================] - 0s 5ms/step - loss: 1.0445 - accuracy: 0.6004 - val_loss: 2.0839 - val_accuracy: 0.4062\n",
            "Epoch 98/200\n",
            "16/16 [==============================] - 0s 4ms/step - loss: 1.0019 - accuracy: 0.6122 - val_loss: 2.1285 - val_accuracy: 0.4453\n",
            "Epoch 99/200\n",
            "16/16 [==============================] - 0s 4ms/step - loss: 1.0255 - accuracy: 0.5886 - val_loss: 2.1036 - val_accuracy: 0.4062\n",
            "Epoch 100/200\n",
            "16/16 [==============================] - 0s 4ms/step - loss: 1.0294 - accuracy: 0.6083 - val_loss: 2.1267 - val_accuracy: 0.3984\n",
            "Epoch 101/200\n",
            "16/16 [==============================] - 0s 4ms/step - loss: 1.0232 - accuracy: 0.6063 - val_loss: 2.0829 - val_accuracy: 0.3750\n",
            "Epoch 102/200\n",
            "16/16 [==============================] - 0s 4ms/step - loss: 0.9998 - accuracy: 0.6083 - val_loss: 2.1532 - val_accuracy: 0.4141\n",
            "Epoch 103/200\n",
            "16/16 [==============================] - 0s 4ms/step - loss: 1.0436 - accuracy: 0.5906 - val_loss: 2.1437 - val_accuracy: 0.3984\n",
            "Epoch 104/200\n",
            "16/16 [==============================] - 0s 4ms/step - loss: 0.9698 - accuracy: 0.6398 - val_loss: 2.2123 - val_accuracy: 0.4297\n",
            "Epoch 105/200\n",
            "16/16 [==============================] - 0s 4ms/step - loss: 0.9661 - accuracy: 0.6161 - val_loss: 2.1520 - val_accuracy: 0.4219\n",
            "Epoch 106/200\n",
            "16/16 [==============================] - 0s 4ms/step - loss: 0.9945 - accuracy: 0.5807 - val_loss: 2.2100 - val_accuracy: 0.4219\n",
            "Epoch 107/200\n",
            "16/16 [==============================] - 0s 4ms/step - loss: 1.0136 - accuracy: 0.5925 - val_loss: 2.1559 - val_accuracy: 0.3750\n",
            "Epoch 108/200\n",
            "16/16 [==============================] - 0s 4ms/step - loss: 0.9865 - accuracy: 0.6102 - val_loss: 2.1669 - val_accuracy: 0.3906\n",
            "Epoch 109/200\n",
            "16/16 [==============================] - 0s 5ms/step - loss: 1.0013 - accuracy: 0.6004 - val_loss: 2.1221 - val_accuracy: 0.4219\n",
            "Epoch 110/200\n",
            "16/16 [==============================] - 0s 6ms/step - loss: 0.9488 - accuracy: 0.6181 - val_loss: 2.1583 - val_accuracy: 0.4219\n",
            "Epoch 111/200\n",
            "16/16 [==============================] - 0s 4ms/step - loss: 0.9797 - accuracy: 0.6280 - val_loss: 2.2004 - val_accuracy: 0.4141\n",
            "Epoch 112/200\n",
            "16/16 [==============================] - 0s 4ms/step - loss: 0.9516 - accuracy: 0.6142 - val_loss: 2.1701 - val_accuracy: 0.3984\n",
            "Epoch 113/200\n",
            "16/16 [==============================] - 0s 4ms/step - loss: 0.9748 - accuracy: 0.6201 - val_loss: 2.2009 - val_accuracy: 0.4219\n",
            "Epoch 114/200\n",
            "16/16 [==============================] - 0s 4ms/step - loss: 0.9022 - accuracy: 0.6535 - val_loss: 2.1612 - val_accuracy: 0.3906\n",
            "Epoch 115/200\n",
            "16/16 [==============================] - 0s 5ms/step - loss: 0.9582 - accuracy: 0.6181 - val_loss: 2.1702 - val_accuracy: 0.4375\n",
            "Epoch 116/200\n",
            "16/16 [==============================] - 0s 4ms/step - loss: 0.9225 - accuracy: 0.6181 - val_loss: 2.2004 - val_accuracy: 0.4141\n",
            "Epoch 117/200\n",
            "16/16 [==============================] - 0s 5ms/step - loss: 0.8904 - accuracy: 0.6476 - val_loss: 2.2401 - val_accuracy: 0.4219\n",
            "Epoch 118/200\n",
            "16/16 [==============================] - 0s 4ms/step - loss: 0.9095 - accuracy: 0.6437 - val_loss: 2.1724 - val_accuracy: 0.4531\n",
            "Epoch 119/200\n",
            "16/16 [==============================] - 0s 4ms/step - loss: 0.9451 - accuracy: 0.6437 - val_loss: 2.2121 - val_accuracy: 0.4062\n",
            "Epoch 120/200\n",
            "16/16 [==============================] - 0s 4ms/step - loss: 0.9192 - accuracy: 0.6594 - val_loss: 2.1671 - val_accuracy: 0.4062\n",
            "Epoch 121/200\n",
            "16/16 [==============================] - 0s 5ms/step - loss: 0.8863 - accuracy: 0.6654 - val_loss: 2.3249 - val_accuracy: 0.4297\n",
            "Epoch 122/200\n",
            "16/16 [==============================] - 0s 4ms/step - loss: 0.9475 - accuracy: 0.6378 - val_loss: 2.2016 - val_accuracy: 0.4219\n",
            "Epoch 123/200\n",
            "16/16 [==============================] - 0s 4ms/step - loss: 0.9147 - accuracy: 0.6083 - val_loss: 2.2147 - val_accuracy: 0.4062\n",
            "Epoch 124/200\n",
            "16/16 [==============================] - 0s 4ms/step - loss: 0.8886 - accuracy: 0.6614 - val_loss: 2.2652 - val_accuracy: 0.4531\n",
            "Epoch 125/200\n",
            "16/16 [==============================] - 0s 4ms/step - loss: 0.8720 - accuracy: 0.6614 - val_loss: 2.1979 - val_accuracy: 0.4219\n",
            "Epoch 126/200\n",
            "16/16 [==============================] - 0s 4ms/step - loss: 0.8598 - accuracy: 0.6713 - val_loss: 2.3649 - val_accuracy: 0.4531\n",
            "Epoch 127/200\n",
            "16/16 [==============================] - 0s 4ms/step - loss: 0.8908 - accuracy: 0.6339 - val_loss: 2.2231 - val_accuracy: 0.4453\n",
            "Epoch 128/200\n",
            "16/16 [==============================] - 0s 5ms/step - loss: 0.8776 - accuracy: 0.6516 - val_loss: 2.2899 - val_accuracy: 0.4453\n",
            "Epoch 129/200\n",
            "16/16 [==============================] - 0s 5ms/step - loss: 0.8533 - accuracy: 0.6594 - val_loss: 2.2619 - val_accuracy: 0.4375\n",
            "Epoch 130/200\n",
            "16/16 [==============================] - 0s 4ms/step - loss: 0.8639 - accuracy: 0.6594 - val_loss: 2.3476 - val_accuracy: 0.4219\n",
            "Epoch 131/200\n",
            "16/16 [==============================] - 0s 4ms/step - loss: 0.8658 - accuracy: 0.6673 - val_loss: 2.2959 - val_accuracy: 0.3828\n",
            "Epoch 132/200\n",
            "16/16 [==============================] - 0s 4ms/step - loss: 0.8586 - accuracy: 0.6260 - val_loss: 2.4534 - val_accuracy: 0.4141\n",
            "Epoch 133/200\n",
            "16/16 [==============================] - 0s 5ms/step - loss: 0.8521 - accuracy: 0.6417 - val_loss: 2.2862 - val_accuracy: 0.4375\n",
            "Epoch 134/200\n",
            "16/16 [==============================] - 0s 4ms/step - loss: 0.8603 - accuracy: 0.6732 - val_loss: 2.3233 - val_accuracy: 0.4375\n",
            "Epoch 135/200\n",
            "16/16 [==============================] - 0s 4ms/step - loss: 0.8825 - accuracy: 0.6713 - val_loss: 2.2403 - val_accuracy: 0.4141\n",
            "Epoch 136/200\n",
            "16/16 [==============================] - 0s 4ms/step - loss: 0.8598 - accuracy: 0.6417 - val_loss: 2.3067 - val_accuracy: 0.4609\n",
            "Epoch 137/200\n",
            "16/16 [==============================] - 0s 5ms/step - loss: 0.8380 - accuracy: 0.6732 - val_loss: 2.2401 - val_accuracy: 0.3906\n",
            "Epoch 138/200\n",
            "16/16 [==============================] - 0s 4ms/step - loss: 0.8147 - accuracy: 0.6634 - val_loss: 2.3478 - val_accuracy: 0.4453\n",
            "Epoch 139/200\n",
            "16/16 [==============================] - 0s 4ms/step - loss: 0.8541 - accuracy: 0.6476 - val_loss: 2.3662 - val_accuracy: 0.4609\n",
            "Epoch 140/200\n",
            "16/16 [==============================] - 0s 5ms/step - loss: 0.8291 - accuracy: 0.6594 - val_loss: 2.3897 - val_accuracy: 0.3984\n",
            "Epoch 141/200\n",
            "16/16 [==============================] - 0s 4ms/step - loss: 0.8544 - accuracy: 0.6476 - val_loss: 2.4241 - val_accuracy: 0.4375\n",
            "Epoch 142/200\n",
            "16/16 [==============================] - 0s 4ms/step - loss: 0.8402 - accuracy: 0.6417 - val_loss: 2.4666 - val_accuracy: 0.4219\n",
            "Epoch 143/200\n",
            "16/16 [==============================] - 0s 4ms/step - loss: 0.8406 - accuracy: 0.6594 - val_loss: 2.3020 - val_accuracy: 0.4453\n",
            "Epoch 144/200\n",
            "16/16 [==============================] - 0s 4ms/step - loss: 0.8718 - accuracy: 0.6201 - val_loss: 2.3924 - val_accuracy: 0.4688\n",
            "Epoch 145/200\n",
            "16/16 [==============================] - 0s 4ms/step - loss: 0.8466 - accuracy: 0.6594 - val_loss: 2.4161 - val_accuracy: 0.4453\n",
            "Epoch 146/200\n",
            "16/16 [==============================] - 0s 4ms/step - loss: 0.8394 - accuracy: 0.6614 - val_loss: 2.3502 - val_accuracy: 0.4453\n",
            "Epoch 147/200\n",
            "16/16 [==============================] - 0s 4ms/step - loss: 0.8642 - accuracy: 0.6476 - val_loss: 2.3477 - val_accuracy: 0.4453\n",
            "Epoch 148/200\n",
            "16/16 [==============================] - 0s 4ms/step - loss: 0.7989 - accuracy: 0.6614 - val_loss: 2.4062 - val_accuracy: 0.4453\n",
            "Epoch 149/200\n",
            "16/16 [==============================] - 0s 5ms/step - loss: 0.7778 - accuracy: 0.6811 - val_loss: 2.4057 - val_accuracy: 0.4531\n",
            "Epoch 150/200\n",
            "16/16 [==============================] - 0s 6ms/step - loss: 0.8098 - accuracy: 0.6594 - val_loss: 2.3833 - val_accuracy: 0.4297\n",
            "Epoch 151/200\n",
            "16/16 [==============================] - 0s 4ms/step - loss: 0.7887 - accuracy: 0.6614 - val_loss: 2.4126 - val_accuracy: 0.4688\n",
            "Epoch 152/200\n",
            "16/16 [==============================] - 0s 4ms/step - loss: 0.7675 - accuracy: 0.7008 - val_loss: 2.4855 - val_accuracy: 0.4062\n",
            "Epoch 153/200\n",
            "16/16 [==============================] - 0s 5ms/step - loss: 0.7506 - accuracy: 0.6988 - val_loss: 2.4352 - val_accuracy: 0.4453\n",
            "Epoch 154/200\n",
            "16/16 [==============================] - 0s 5ms/step - loss: 0.7578 - accuracy: 0.6890 - val_loss: 2.4510 - val_accuracy: 0.4531\n",
            "Epoch 155/200\n",
            "16/16 [==============================] - 0s 4ms/step - loss: 0.7920 - accuracy: 0.6575 - val_loss: 2.4883 - val_accuracy: 0.4297\n",
            "Epoch 156/200\n",
            "16/16 [==============================] - 0s 4ms/step - loss: 0.7820 - accuracy: 0.6870 - val_loss: 2.4289 - val_accuracy: 0.4375\n",
            "Epoch 157/200\n",
            "16/16 [==============================] - 0s 4ms/step - loss: 0.8431 - accuracy: 0.6437 - val_loss: 2.4629 - val_accuracy: 0.4531\n",
            "Epoch 158/200\n",
            "16/16 [==============================] - 0s 4ms/step - loss: 0.7625 - accuracy: 0.6772 - val_loss: 2.4584 - val_accuracy: 0.4609\n",
            "Epoch 159/200\n",
            "16/16 [==============================] - 0s 4ms/step - loss: 0.7751 - accuracy: 0.6831 - val_loss: 2.4707 - val_accuracy: 0.4453\n",
            "Epoch 160/200\n",
            "16/16 [==============================] - 0s 4ms/step - loss: 0.7849 - accuracy: 0.7067 - val_loss: 2.5597 - val_accuracy: 0.4609\n",
            "Epoch 161/200\n",
            "16/16 [==============================] - 0s 5ms/step - loss: 0.7802 - accuracy: 0.6929 - val_loss: 2.4636 - val_accuracy: 0.4141\n",
            "Epoch 162/200\n",
            "16/16 [==============================] - 0s 6ms/step - loss: 0.7918 - accuracy: 0.6949 - val_loss: 2.4897 - val_accuracy: 0.4453\n",
            "Epoch 163/200\n",
            "16/16 [==============================] - 0s 4ms/step - loss: 0.7888 - accuracy: 0.6811 - val_loss: 2.4554 - val_accuracy: 0.4375\n",
            "Epoch 164/200\n",
            "16/16 [==============================] - 0s 4ms/step - loss: 0.8127 - accuracy: 0.6791 - val_loss: 2.5111 - val_accuracy: 0.4453\n",
            "Epoch 165/200\n",
            "16/16 [==============================] - 0s 5ms/step - loss: 0.7523 - accuracy: 0.7008 - val_loss: 2.4913 - val_accuracy: 0.4609\n",
            "Epoch 166/200\n",
            "16/16 [==============================] - 0s 5ms/step - loss: 0.7703 - accuracy: 0.6732 - val_loss: 2.5633 - val_accuracy: 0.4453\n",
            "Epoch 167/200\n",
            "16/16 [==============================] - 0s 4ms/step - loss: 0.7428 - accuracy: 0.6929 - val_loss: 2.6630 - val_accuracy: 0.4453\n",
            "Epoch 168/200\n",
            "16/16 [==============================] - 0s 4ms/step - loss: 0.7713 - accuracy: 0.7008 - val_loss: 2.5906 - val_accuracy: 0.4219\n",
            "Epoch 169/200\n",
            "16/16 [==============================] - 0s 5ms/step - loss: 0.7608 - accuracy: 0.6772 - val_loss: 2.5695 - val_accuracy: 0.4375\n",
            "Epoch 170/200\n",
            "16/16 [==============================] - 0s 4ms/step - loss: 0.7615 - accuracy: 0.6791 - val_loss: 2.4885 - val_accuracy: 0.4609\n",
            "Epoch 171/200\n",
            "16/16 [==============================] - 0s 4ms/step - loss: 0.7291 - accuracy: 0.6909 - val_loss: 2.5620 - val_accuracy: 0.4531\n",
            "Epoch 172/200\n",
            "16/16 [==============================] - 0s 5ms/step - loss: 0.6902 - accuracy: 0.7244 - val_loss: 2.5815 - val_accuracy: 0.4219\n",
            "Epoch 173/200\n",
            "16/16 [==============================] - 0s 5ms/step - loss: 0.7581 - accuracy: 0.7047 - val_loss: 2.6068 - val_accuracy: 0.4688\n",
            "Epoch 174/200\n",
            "16/16 [==============================] - 0s 5ms/step - loss: 0.7338 - accuracy: 0.7067 - val_loss: 2.5827 - val_accuracy: 0.4297\n",
            "Epoch 175/200\n",
            "16/16 [==============================] - 0s 4ms/step - loss: 0.7751 - accuracy: 0.6909 - val_loss: 2.5897 - val_accuracy: 0.4688\n",
            "Epoch 176/200\n",
            "16/16 [==============================] - 0s 4ms/step - loss: 0.7398 - accuracy: 0.7028 - val_loss: 2.5862 - val_accuracy: 0.4375\n",
            "Epoch 177/200\n",
            "16/16 [==============================] - 0s 5ms/step - loss: 0.7042 - accuracy: 0.7126 - val_loss: 2.5595 - val_accuracy: 0.4766\n",
            "Epoch 178/200\n",
            "16/16 [==============================] - 0s 4ms/step - loss: 0.7267 - accuracy: 0.6988 - val_loss: 2.6076 - val_accuracy: 0.4453\n",
            "Epoch 179/200\n",
            "16/16 [==============================] - 0s 5ms/step - loss: 0.6999 - accuracy: 0.7205 - val_loss: 2.7152 - val_accuracy: 0.4297\n",
            "Epoch 180/200\n",
            "16/16 [==============================] - 0s 4ms/step - loss: 0.7308 - accuracy: 0.6870 - val_loss: 2.6246 - val_accuracy: 0.4297\n",
            "Epoch 181/200\n",
            "16/16 [==============================] - 0s 4ms/step - loss: 0.7629 - accuracy: 0.6772 - val_loss: 2.6213 - val_accuracy: 0.4688\n",
            "Epoch 182/200\n",
            "16/16 [==============================] - 0s 4ms/step - loss: 0.6793 - accuracy: 0.7047 - val_loss: 2.6495 - val_accuracy: 0.4766\n",
            "Epoch 183/200\n",
            "16/16 [==============================] - 0s 5ms/step - loss: 0.6912 - accuracy: 0.7264 - val_loss: 2.6261 - val_accuracy: 0.4375\n",
            "Epoch 184/200\n",
            "16/16 [==============================] - 0s 4ms/step - loss: 0.6949 - accuracy: 0.6929 - val_loss: 2.7698 - val_accuracy: 0.4375\n",
            "Epoch 185/200\n",
            "16/16 [==============================] - 0s 4ms/step - loss: 0.6720 - accuracy: 0.7185 - val_loss: 2.6689 - val_accuracy: 0.4531\n",
            "Epoch 186/200\n",
            "16/16 [==============================] - 0s 4ms/step - loss: 0.6711 - accuracy: 0.7421 - val_loss: 2.7405 - val_accuracy: 0.4531\n",
            "Epoch 187/200\n",
            "16/16 [==============================] - 0s 5ms/step - loss: 0.7325 - accuracy: 0.6909 - val_loss: 2.5994 - val_accuracy: 0.4688\n",
            "Epoch 188/200\n",
            "16/16 [==============================] - 0s 4ms/step - loss: 0.7019 - accuracy: 0.6949 - val_loss: 2.7240 - val_accuracy: 0.4609\n",
            "Epoch 189/200\n",
            "16/16 [==============================] - 0s 4ms/step - loss: 0.7018 - accuracy: 0.7028 - val_loss: 2.6663 - val_accuracy: 0.4531\n",
            "Epoch 190/200\n",
            "16/16 [==============================] - 0s 4ms/step - loss: 0.7306 - accuracy: 0.6614 - val_loss: 2.6952 - val_accuracy: 0.4688\n",
            "Epoch 191/200\n",
            "16/16 [==============================] - 0s 4ms/step - loss: 0.6987 - accuracy: 0.7008 - val_loss: 2.5796 - val_accuracy: 0.4297\n",
            "Epoch 192/200\n",
            "16/16 [==============================] - 0s 4ms/step - loss: 0.6349 - accuracy: 0.7598 - val_loss: 2.6290 - val_accuracy: 0.4453\n",
            "Epoch 193/200\n",
            "16/16 [==============================] - 0s 4ms/step - loss: 0.6612 - accuracy: 0.7205 - val_loss: 2.7457 - val_accuracy: 0.4688\n",
            "Epoch 194/200\n",
            "16/16 [==============================] - 0s 4ms/step - loss: 0.6598 - accuracy: 0.7244 - val_loss: 2.7938 - val_accuracy: 0.4531\n",
            "Epoch 195/200\n",
            "16/16 [==============================] - 0s 4ms/step - loss: 0.6438 - accuracy: 0.7185 - val_loss: 2.7537 - val_accuracy: 0.4609\n",
            "Epoch 196/200\n",
            "16/16 [==============================] - 0s 4ms/step - loss: 0.6801 - accuracy: 0.6831 - val_loss: 2.7472 - val_accuracy: 0.4844\n",
            "Epoch 197/200\n",
            "16/16 [==============================] - 0s 4ms/step - loss: 0.6735 - accuracy: 0.7303 - val_loss: 2.8491 - val_accuracy: 0.4844\n",
            "Epoch 198/200\n",
            "16/16 [==============================] - 0s 5ms/step - loss: 0.6357 - accuracy: 0.7421 - val_loss: 2.7037 - val_accuracy: 0.4531\n",
            "Epoch 199/200\n",
            "16/16 [==============================] - 0s 8ms/step - loss: 0.6623 - accuracy: 0.7087 - val_loss: 2.8560 - val_accuracy: 0.4375\n",
            "Epoch 200/200\n",
            "16/16 [==============================] - 0s 4ms/step - loss: 0.6615 - accuracy: 0.7224 - val_loss: 2.7985 - val_accuracy: 0.4531\n"
          ],
          "name": "stdout"
        },
        {
          "output_type": "execute_result",
          "data": {
            "text/plain": [
              "<tensorflow.python.keras.callbacks.History at 0x7f27b6008080>"
            ]
          },
          "metadata": {
            "tags": []
          },
          "execution_count": 235
        }
      ]
    },
    {
      "cell_type": "code",
      "metadata": {
        "colab": {
          "base_uri": "https://localhost:8080/"
        },
        "id": "gZDcqWsI34ZR",
        "outputId": "5d3d6445-a223-4270-afbc-8ebb56e8e632"
      },
      "source": [
        "for i,j in train:\n",
        "  print(i,j)\n",
        "  break"
      ],
      "execution_count": null,
      "outputs": [
        {
          "output_type": "stream",
          "text": [
            "tf.Tensor([10  3 17  2  3], shape=(5,), dtype=int64) tf.Tensor(10, shape=(), dtype=int64)\n"
          ],
          "name": "stdout"
        }
      ]
    },
    {
      "cell_type": "code",
      "metadata": {
        "id": "IC6K9O9g35q1"
      },
      "source": [
        "x=match_features.values\n",
        "y=target.values"
      ],
      "execution_count": null,
      "outputs": []
    },
    {
      "cell_type": "code",
      "metadata": {
        "colab": {
          "base_uri": "https://localhost:8080/"
        },
        "id": "WuIsmh5R7g9E",
        "outputId": "efa91240-047f-45d9-9a12-9fad398361d8"
      },
      "source": [
        "x.shape\n"
      ],
      "execution_count": null,
      "outputs": [
        {
          "output_type": "execute_result",
          "data": {
            "text/plain": [
              "(636, 5)"
            ]
          },
          "metadata": {
            "tags": []
          },
          "execution_count": 114
        }
      ]
    },
    {
      "cell_type": "code",
      "metadata": {
        "id": "hkU7aM-07lBC"
      },
      "source": [
        "from sklearn.ensemble import RandomForestRegressor\n",
        "outcome_var=['winner']\n",
        "predictor_var = ['team1','team2','toss_winner']\n",
        "model = LogisticRegression()\n",
        "classification_model(model, df,predictor_var,outcome_var)"
      ],
      "execution_count": null,
      "outputs": []
    },
    {
      "cell_type": "code",
      "metadata": {
        "id": "zI5U9vlGshRF"
      },
      "source": [
        "from sklearn.linear_model import LogisticRegression\n",
        "from sklearn.model_selection import KFold   \n",
        "from sklearn.ensemble import RandomForestClassifier,AdaBoostClassifier,GradientBoostingClassifier,GradientBoostingRegressor\n",
        "from sklearn.tree import DecisionTreeClassifier, export_graphviz\n",
        "from sklearn import metrics\n",
        "from sklearn.svm import SVC\n",
        "from sklearn.naive_bayes import GaussianNB\n",
        "from sklearn.neighbors import KNeighborsClassifier\n",
        "\n"
      ],
      "execution_count": null,
      "outputs": []
    },
    {
      "cell_type": "code",
      "metadata": {
        "id": "_W5z10lItKF0"
      },
      "source": [
        "def classification_model(model, train_data,train_labels, test_data,test_labels):\n",
        "  model.fit(train_data,train_labels)\n",
        "  predictions = model.predict(train_data)\n",
        "  accuracy = metrics.accuracy_score(predictions,train_labels)\n",
        "  print('Accuracy : %s' % '{0:.3%}'.format(accuracy))\n",
        "  test_predictions=model.predict(test_data)\n",
        "  test_accuracy = metrics.accuracy_score(test_predictions,test_labels)\n",
        "  print('Test Accuracy : %s' % '{0:.3%}'.format(test_accuracy))\n"
      ],
      "execution_count": null,
      "outputs": []
    },
    {
      "cell_type": "code",
      "metadata": {
        "id": "OAjyBhblzdHg"
      },
      "source": [
        "models = [\n",
        "        ('Decision Tree', DecisionTreeClassifier('entropy')),\n",
        "\n",
        "    ('Naive Bayes', GaussianNB()),\n",
        "    ('Support Vector Machines', SVC()),\n",
        "    ('K Nearest Neighbors', KNeighborsClassifier(n_neighbors=8)),\n",
        "    ('Adaboost ',AdaBoostClassifier()),\n",
        "    ('Gradient Boosting Classifier',GradientBoostingClassifier(learning_rate=0.03,n_estimators=400)),\n",
        "    ('RandomForesClassifier',RandomForestClassifier())\n",
        "]"
      ],
      "execution_count": null,
      "outputs": []
    },
    {
      "cell_type": "code",
      "metadata": {
        "colab": {
          "base_uri": "https://localhost:8080/"
        },
        "id": "Vi-SYA2BsWCl",
        "outputId": "9fc77e18-a045-47d8-ebdb-5ae9362d620f"
      },
      "source": [
        "model=DecisionTreeClassifier('entropy')\n",
        "model1=SVC()\n",
        "model2=GaussianNB()\n",
        "model3=KNeighborsClassifier()\n",
        "model4=AdaBoostClassifier()\n",
        "model5= GradientBoostingClassifier(n_estimators=100, learning_rate=0.01, max_depth=1, random_state=0)\n",
        "model6= GradientBoostingRegressor(n_estimators=100, learning_rate=0.01, max_depth=1, random_state=0)\n",
        "for name,model in models:\n",
        "\n",
        "  print(name)\n",
        "  classification_model(model, train_data,train_labels,test_data,test_labels)\n",
        "  "
      ],
      "execution_count": null,
      "outputs": [
        {
          "output_type": "stream",
          "text": [
            "Decision Tree\n",
            "Accuracy : 99.606%\n",
            "Test Accuracy : 44.531%\n",
            "Naive Bayes\n",
            "Accuracy : 36.220%\n",
            "Test Accuracy : 32.812%\n",
            "Support Vector Machines\n",
            "Accuracy : 15.157%\n",
            "Test Accuracy : 11.719%\n",
            "K Nearest Neighbors\n",
            "Accuracy : 49.803%\n",
            "Test Accuracy : 35.938%\n",
            "Adaboost \n",
            "Accuracy : 21.063%\n",
            "Test Accuracy : 22.656%\n",
            "Gradient Boosting Classifier\n",
            "Accuracy : 99.606%\n",
            "Test Accuracy : 57.812%\n",
            "RandomForesClassifier\n",
            "Accuracy : 99.606%\n",
            "Test Accuracy : 55.469%\n"
          ],
          "name": "stdout"
        }
      ]
    },
    {
      "cell_type": "code",
      "metadata": {
        "colab": {
          "base_uri": "https://localhost:8080/"
        },
        "id": "uxNPYXfQ_r0R",
        "outputId": "2a9df302-b655-4d2c-a2ba-8880aa64b450"
      },
      "source": [
        "variables=['season','team1','team2','city','venue','toss_decision','toss_winner']\n",
        "imp_input = pd.Series(model.feature_importances_,index=variables).sort_values(ascending=False)\n",
        "print(imp_input)"
      ],
      "execution_count": null,
      "outputs": [
        {
          "output_type": "stream",
          "text": [
            "team2            0.360726\n",
            "team1            0.248415\n",
            "city             0.122728\n",
            "venue            0.104026\n",
            "toss_winner      0.089894\n",
            "season           0.068179\n",
            "toss_decision    0.006032\n",
            "dtype: float64\n"
          ],
          "name": "stdout"
        }
      ]
    },
    {
      "cell_type": "code",
      "metadata": {
        "id": "wnzlVg6lwZxt"
      },
      "source": [
        "?DecisionTreeClassifier(max_depth=1)"
      ],
      "execution_count": null,
      "outputs": []
    },
    {
      "cell_type": "code",
      "metadata": {
        "colab": {
          "base_uri": "https://localhost:8080/"
        },
        "id": "PweP_6bn0wLm",
        "outputId": "7916f958-2919-45a1-da2e-fc0b41fe794b"
      },
      "source": [
        "from sklearn.preprocessing import LabelEncoder\n",
        "var_mod = ['city','toss_decision','venue']\n",
        "le = LabelEncoder()\n",
        "match_features1 = matches[['season','team1','team2','city','venue','toss_decision','toss_winner','winner']]\n",
        "for i in var_mod:\n",
        "    match_features1[i] = le.fit_transform(match_features1[i])\n",
        "match_features1.dtypes "
      ],
      "execution_count": null,
      "outputs": [
        {
          "output_type": "stream",
          "text": [
            "/usr/local/lib/python3.6/dist-packages/ipykernel_launcher.py:6: SettingWithCopyWarning: \n",
            "A value is trying to be set on a copy of a slice from a DataFrame.\n",
            "Try using .loc[row_indexer,col_indexer] = value instead\n",
            "\n",
            "See the caveats in the documentation: https://pandas.pydata.org/pandas-docs/stable/user_guide/indexing.html#returning-a-view-versus-a-copy\n",
            "  \n"
          ],
          "name": "stderr"
        },
        {
          "output_type": "execute_result",
          "data": {
            "text/plain": [
              "season           int64\n",
              "team1            int64\n",
              "team2            int64\n",
              "city             int64\n",
              "venue            int64\n",
              "toss_decision    int64\n",
              "toss_winner      int64\n",
              "winner           int64\n",
              "dtype: object"
            ]
          },
          "metadata": {
            "tags": []
          },
          "execution_count": 287
        }
      ]
    },
    {
      "cell_type": "code",
      "metadata": {
        "id": "nBLLmkte8D68"
      },
      "source": [
        "train, test = train_test_split(match_features1, test_size=0.2, random_state=42, shuffle=True)\n",
        "train_data=train.values\n",
        "test_data=test.values\n",
        "train_labels=train_data[:,-1]\n",
        "train_data=train_data[:,:-1]\n",
        "test_labels=test_data[:,-1]\n",
        "test_data=test_data[:,:-1]"
      ],
      "execution_count": null,
      "outputs": []
    },
    {
      "cell_type": "code",
      "metadata": {
        "id": "2h_Kqy8_8sPh"
      },
      "source": [
        ""
      ],
      "execution_count": null,
      "outputs": []
    }
  ]
}